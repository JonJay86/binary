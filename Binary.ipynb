{
  "nbformat": 4,
  "nbformat_minor": 0,
  "metadata": {
    "colab": {
      "provenance": [],
      "mount_file_id": "1rK8CdUTKdtNxYB3qPklrEEdtieRZFD39",
      "authorship_tag": "ABX9TyN2yFUim4qGGamP/TRaDVKU",
      "include_colab_link": true
    },
    "kernelspec": {
      "name": "python3",
      "display_name": "Python 3"
    }
  },
  "cells": [
    {
      "cell_type": "markdown",
      "metadata": {
        "id": "view-in-github",
        "colab_type": "text"
      },
      "source": [
        "<a href=\"https://colab.research.google.com/github/JonJay86/binary/blob/main/Binary.ipynb\" target=\"_parent\"><img src=\"https://colab.research.google.com/assets/colab-badge.svg\" alt=\"Open In Colab\"/></a>"
      ]
    },
    {
      "cell_type": "code",
      "metadata": {
        "id": "03Ed4fc-xxNX"
      },
      "source": [
        "import glob\n",
        "import os, math, operator, re\n",
        "import string\n",
        "from operator import eq\n",
        "from collections import defaultdict, Counter"
      ],
      "execution_count": null,
      "outputs": []
    },
    {
      "cell_type": "code",
      "metadata": {
        "colab": {
          "base_uri": "https://localhost:8080/"
        },
        "id": "9YONnuXEpgPb",
        "outputId": "67f1881f-259b-4f62-9780-ea6b5598723a"
      },
      "source": [
        "from google.colab import drive\n",
        "drive.mount('/content/drive')"
      ],
      "execution_count": null,
      "outputs": [
        {
          "output_type": "stream",
          "text": [
            "Drive already mounted at /content/drive; to attempt to forcibly remount, call drive.mount(\"/content/drive\", force_remount=True).\n"
          ],
          "name": "stdout"
        }
      ]
    },
    {
      "cell_type": "code",
      "metadata": {
        "id": "iWNj_L5OrdYn"
      },
      "source": [
        "file_list_binary = glob.glob('/content/drive/MyDrive/SemEval2020-Task2-Dev.zip (Unzipped Files)/monolingual/binary/*.txt')  \n",
        "file_list_graded = glob.glob('/content/drive/MyDrive/SemEval2020-Task2-Dev.zip (Unzipped Files)/monolingual/graded/*.txt')"
      ],
      "execution_count": null,
      "outputs": []
    },
    {
      "cell_type": "code",
      "metadata": {
        "id": "4H4u6kVL6MXy"
      },
      "source": [
        "# file_list_mono = (file_list_binary + file_list_graded)"
      ],
      "execution_count": null,
      "outputs": []
    },
    {
      "cell_type": "code",
      "metadata": {
        "id": "6BOWMDmO6Ft5"
      },
      "source": [
        "#create simple file names from complex file names\n",
        "def fnames(filelist):\n",
        "  fname = []\n",
        "  for line in filelist:\n",
        "      fname.append(os.path.basename(line)[:2])\n",
        "  return fname"
      ],
      "execution_count": null,
      "outputs": []
    },
    {
      "cell_type": "code",
      "metadata": {
        "id": "d6QVwO27j4bp"
      },
      "source": [
        "bi_mono = fnames(file_list_binary)\n",
        "gr_mono=fnames(file_list_graded)"
      ],
      "execution_count": null,
      "outputs": []
    },
    {
      "cell_type": "code",
      "metadata": {
        "colab": {
          "base_uri": "https://localhost:8080/"
        },
        "id": "72vL4kawj_CI",
        "outputId": "bf7c43b6-e342-4fbb-d1a7-7db774379978"
      },
      "source": [
        "bi_mono"
      ],
      "execution_count": null,
      "outputs": [
        {
          "output_type": "execute_result",
          "data": {
            "text/plain": [
              "['en', 'de', 'hr', 'it', 'tr']"
            ]
          },
          "metadata": {
            "tags": []
          },
          "execution_count": 13
        }
      ]
    },
    {
      "cell_type": "code",
      "metadata": {
        "id": "2PSwHpDRu4YY"
      },
      "source": [
        "binaryd= defaultdict(lambda: defaultdict(int))\n",
        "gradedd =defaultdict(lambda:defaultdict(float))"
      ],
      "execution_count": null,
      "outputs": []
    },
    {
      "cell_type": "code",
      "metadata": {
        "id": "CLhvBjDdOk0n"
      },
      "source": [
        "for x, f in zip(bi_mono, file_list_binary):\n",
        "  with open(f) as j:\n",
        "    lang  = j.readlines()\n",
        "    for line in lang:\n",
        "      split_lang = line.split(' ')\n",
        "\n",
        "  binaryd[x]=(split_lang[0] + '_' + split_lang[1])\n"
      ],
      "execution_count": null,
      "outputs": []
    },
    {
      "cell_type": "code",
      "metadata": {
        "colab": {
          "base_uri": "https://localhost:8080/",
          "height": 35
        },
        "id": "lDgraVowOspD",
        "outputId": "c2feb9ad-e5b6-4b89-a3a6-c822803fcd18"
      },
      "source": [
        "binaryd['de']"
      ],
      "execution_count": null,
      "outputs": [
        {
          "output_type": "execute_result",
          "data": {
            "application/vnd.google.colaboratory.intrinsic+json": {
              "type": "string"
            },
            "text/plain": [
              "'schwingen_einstellen'"
            ]
          },
          "metadata": {
            "tags": []
          },
          "execution_count": 58
        }
      ]
    },
    {
      "cell_type": "code",
      "metadata": {
        "id": "wIxL0Qe5yOxq",
        "colab": {
          "base_uri": "https://localhost:8080/"
        },
        "outputId": "a8b4f660-8200-416a-b9e2-d09513efcf40"
      },
      "source": [
        "#create dict of words  \n",
        "for x in monolingual:\n",
        "  \n",
        "#   binaryd.fromkeys(x)\n",
        "\n",
        "# print(binaryd)\n",
        "# d_mono= defaultdict(lambda: defaultdict(float))\n",
        "  \n",
        "#   for file in filelist:\n",
        "#     with open(file) as j:\n",
        "#       lang = j.readlines()\n",
        "#       for line in lang:\n",
        "#         split_lang = line.split(' ') \n",
        "#         d_mono[fname][(split_lang[0] + '_' + split_lang[1])] = split_lang[2].replace('\\n', '')\n",
        "      \n",
        "  "
      ],
      "execution_count": null,
      "outputs": [
        {
          "output_type": "stream",
          "text": [
            "['en', 'de', 'hr', 'it', 'tr']\n",
            "['de', 'en', 'hr', 'it', 'tr']\n"
          ],
          "name": "stdout"
        }
      ]
    },
    {
      "cell_type": "code",
      "metadata": {
        "colab": {
          "base_uri": "https://localhost:8080/"
        },
        "id": "gRvFeYudh4uM",
        "outputId": "41fad61f-410e-408a-812b-696258cbed2d"
      },
      "source": [
        "binaryd"
      ],
      "execution_count": null,
      "outputs": [
        {
          "output_type": "execute_result",
          "data": {
            "text/plain": [
              "defaultdict(<function __main__.<lambda>>,\n",
              "            {'fname': ['de', 'en', 'hr', 'it', 'tr']})"
            ]
          },
          "metadata": {
            "tags": []
          },
          "execution_count": 30
        }
      ]
    },
    {
      "cell_type": "code",
      "metadata": {
        "colab": {
          "base_uri": "https://localhost:8080/",
          "height": 279
        },
        "id": "CI5OjkR86Ilx",
        "outputId": "5abfe00c-4610-481f-9c9f-9804037e1e92"
      },
      "source": [
        "ddword_pairs(binaryd, file_list_binary)"
      ],
      "execution_count": null,
      "outputs": [
        {
          "output_type": "error",
          "ename": "TypeError",
          "evalue": "ignored",
          "traceback": [
            "\u001b[0;31m---------------------------------------------------------------------------\u001b[0m",
            "\u001b[0;31mTypeError\u001b[0m                                 Traceback (most recent call last)",
            "\u001b[0;32m<ipython-input-65-013310a2e0d8>\u001b[0m in \u001b[0;36m<module>\u001b[0;34m()\u001b[0m\n\u001b[0;32m----> 1\u001b[0;31m \u001b[0mddword_pairs\u001b[0m\u001b[0;34m(\u001b[0m\u001b[0mbinaryd\u001b[0m\u001b[0;34m,\u001b[0m \u001b[0mfile_list_binary\u001b[0m\u001b[0;34m)\u001b[0m\u001b[0;34m\u001b[0m\u001b[0;34m\u001b[0m\u001b[0m\n\u001b[0m",
            "\u001b[0;32m<ipython-input-64-a65aaed8de10>\u001b[0m in \u001b[0;36mddword_pairs\u001b[0;34m(fnames, filelist)\u001b[0m\n\u001b[1;32m      9\u001b[0m       \u001b[0;32mfor\u001b[0m \u001b[0mline\u001b[0m \u001b[0;32min\u001b[0m \u001b[0mlang\u001b[0m\u001b[0;34m:\u001b[0m\u001b[0;34m\u001b[0m\u001b[0;34m\u001b[0m\u001b[0m\n\u001b[1;32m     10\u001b[0m         \u001b[0msplit_lang\u001b[0m \u001b[0;34m=\u001b[0m \u001b[0mline\u001b[0m\u001b[0;34m.\u001b[0m\u001b[0msplit\u001b[0m\u001b[0;34m(\u001b[0m\u001b[0;34m' '\u001b[0m\u001b[0;34m)\u001b[0m\u001b[0;34m\u001b[0m\u001b[0;34m\u001b[0m\u001b[0m\n\u001b[0;32m---> 11\u001b[0;31m         \u001b[0md_mono\u001b[0m\u001b[0;34m[\u001b[0m\u001b[0mfname\u001b[0m\u001b[0;34m]\u001b[0m\u001b[0;34m[\u001b[0m\u001b[0;34m(\u001b[0m\u001b[0msplit_lang\u001b[0m\u001b[0;34m[\u001b[0m\u001b[0;36m0\u001b[0m\u001b[0;34m]\u001b[0m \u001b[0;34m+\u001b[0m \u001b[0;34m'_'\u001b[0m \u001b[0;34m+\u001b[0m \u001b[0msplit_lang\u001b[0m\u001b[0;34m[\u001b[0m\u001b[0;36m1\u001b[0m\u001b[0;34m]\u001b[0m\u001b[0;34m)\u001b[0m\u001b[0;34m]\u001b[0m \u001b[0;34m=\u001b[0m \u001b[0msplit_lang\u001b[0m\u001b[0;34m[\u001b[0m\u001b[0;36m2\u001b[0m\u001b[0;34m]\u001b[0m\u001b[0;34m.\u001b[0m\u001b[0mreplace\u001b[0m\u001b[0;34m(\u001b[0m\u001b[0;34m'\\n'\u001b[0m\u001b[0;34m,\u001b[0m \u001b[0;34m''\u001b[0m\u001b[0;34m)\u001b[0m\u001b[0;34m\u001b[0m\u001b[0;34m\u001b[0m\u001b[0m\n\u001b[0m\u001b[1;32m     12\u001b[0m \u001b[0;34m\u001b[0m\u001b[0m\n\u001b[1;32m     13\u001b[0m   \u001b[0mprint\u001b[0m\u001b[0;34m(\u001b[0m\u001b[0md_mono\u001b[0m\u001b[0;34m)\u001b[0m\u001b[0;34m\u001b[0m\u001b[0;34m\u001b[0m\u001b[0m\n",
            "\u001b[0;31mTypeError\u001b[0m: unhashable type: 'list'"
          ]
        }
      ]
    },
    {
      "cell_type": "code",
      "metadata": {
        "id": "58w83ps77JO3"
      },
      "source": [
        "for line in file_list_mono:\n",
        "  if 'binary' in line:\n",
        "    top =line.strip('\\/').split('binary')"
      ],
      "execution_count": null,
      "outputs": []
    },
    {
      "cell_type": "code",
      "metadata": {
        "id": "bZsXHq-znnkC"
      },
      "source": [
        "def lang(textfiles): #creates name of dict\n",
        "  for file in textfiles:\n",
        "    for text in file:\n",
        "      if 'binary' in text:\n",
        "        srt_index = file.find('/binary/') + len('/binary/') \n",
        "        end_index = file.find('.binary.')\n",
        "      # else: \n",
        "      #   srt_index = file.find('/graded/') + len('/graded/') \n",
        "      #   end_index = file.find('.graded.')\n",
        "\n",
        "    print(binary[file[srt_index:end_index]])"
      ],
      "execution_count": null,
      "outputs": []
    },
    {
      "cell_type": "code",
      "metadata": {
        "colab": {
          "base_uri": "https://localhost:8080/",
          "height": 246
        },
        "id": "eFtpU1Fb0Kqu",
        "outputId": "e72c4a9e-3fb2-41bb-dd8d-8cdba4f1e7f8"
      },
      "source": [
        "binary =lang(file_list_mono)"
      ],
      "execution_count": null,
      "outputs": [
        {
          "output_type": "error",
          "ename": "UnboundLocalError",
          "evalue": "ignored",
          "traceback": [
            "\u001b[0;31m---------------------------------------------------------------------------\u001b[0m",
            "\u001b[0;31mUnboundLocalError\u001b[0m                         Traceback (most recent call last)",
            "\u001b[0;32m<ipython-input-63-f441bf8e839b>\u001b[0m in \u001b[0;36m<module>\u001b[0;34m()\u001b[0m\n\u001b[0;32m----> 1\u001b[0;31m \u001b[0mbinary\u001b[0m \u001b[0;34m=\u001b[0m\u001b[0mlang\u001b[0m\u001b[0;34m(\u001b[0m\u001b[0mfile_list_mono\u001b[0m\u001b[0;34m)\u001b[0m\u001b[0;34m\u001b[0m\u001b[0;34m\u001b[0m\u001b[0m\n\u001b[0m",
            "\u001b[0;32m<ipython-input-62-6cbcd402349e>\u001b[0m in \u001b[0;36mlang\u001b[0;34m(textfiles)\u001b[0m\n\u001b[1;32m      9\u001b[0m       \u001b[0;31m#   end_index = file.find('.graded.')\u001b[0m\u001b[0;34m\u001b[0m\u001b[0;34m\u001b[0m\u001b[0;34m\u001b[0m\u001b[0m\n\u001b[1;32m     10\u001b[0m \u001b[0;34m\u001b[0m\u001b[0m\n\u001b[0;32m---> 11\u001b[0;31m     \u001b[0mprint\u001b[0m\u001b[0;34m(\u001b[0m\u001b[0mbinary\u001b[0m\u001b[0;34m[\u001b[0m\u001b[0mfile\u001b[0m\u001b[0;34m[\u001b[0m\u001b[0msrt_index\u001b[0m\u001b[0;34m:\u001b[0m\u001b[0mend_index\u001b[0m\u001b[0;34m]\u001b[0m\u001b[0;34m]\u001b[0m\u001b[0;34m)\u001b[0m\u001b[0;34m\u001b[0m\u001b[0;34m\u001b[0m\u001b[0m\n\u001b[0m",
            "\u001b[0;31mUnboundLocalError\u001b[0m: local variable 'srt_index' referenced before assignment"
          ]
        }
      ]
    },
    {
      "cell_type": "code",
      "metadata": {
        "id": "4l7YPdJuv1X9",
        "colab": {
          "base_uri": "https://localhost:8080/",
          "height": 128
        },
        "outputId": "3e675971-8510-464b-d93b-16944a688d24"
      },
      "source": [
        "class Langmono(self):\n",
        "  \n",
        "  def __init__(self, textfiles, lang, word_pair, score):\n",
        "    self.textfiles = textfiles\n",
        "    self.lang = lang\n",
        "    self.word_pair= word_pair\n",
        "    self.score = score\n",
        "  \n",
        "  def lang(self, textfiles): #creates name of dict\n",
        "    if 'binary' in textfiles:\n",
        "      for file in textfiles:\n",
        "        for text in file:\n",
        "            srt_index = file.find('/binary/') + len('/binary/') \n",
        "            end_index = file.find('.binary.')\n",
        "    else: \n",
        "      for file in textfiles:\n",
        "        for text in file:\n",
        "            srt_index = file.find('/graded/') + len('/graded/') \n",
        "            end_index = file.find('.graded.')\n",
        "  \n",
        "  \n",
        "  def word_pair(self, textfiles):   # reads file, saves to dict\n",
        "    word_pair = []\n",
        "    for fname in textfiles: \n",
        "      with open(fname) as j:\n",
        "        f=j.readlines() \n",
        "        for line in f:\n",
        "          word_pair.extend([y for x in f for y in x.split() if y.isalnum()]) \n",
        "\n",
        "  def get_scores(self):\n",
        "      return binary[file[srt_index:end_index]][word_pair][0]\n",
        "      return graded\n",
        "\n"
      ],
      "execution_count": null,
      "outputs": [
        {
          "output_type": "error",
          "ename": "SyntaxError",
          "evalue": "ignored",
          "traceback": [
            "\u001b[0;36m  File \u001b[0;32m\"<ipython-input-21-968f9bf4b605>\"\u001b[0;36m, line \u001b[0;32m26\u001b[0m\n\u001b[0;31m    return binary[srt_index:end_index][word_pair][0]\u001b[0m\n\u001b[0m    ^\u001b[0m\n\u001b[0;31mSyntaxError\u001b[0m\u001b[0;31m:\u001b[0m 'return' outside function\n"
          ]
        }
      ]
    },
    {
      "cell_type": "code",
      "metadata": {
        "id": "7lZcprJKw1zO"
      },
      "source": [
        "monolingual(file_list_mono)"
      ],
      "execution_count": null,
      "outputs": []
    },
    {
      "cell_type": "code",
      "metadata": {
        "colab": {
          "base_uri": "https://localhost:8080/"
        },
        "id": "23kNx6wBjl_D",
        "outputId": "66ad0f5d-c646-448e-b5b0-66c0d2b348ef"
      },
      "source": [
        "binary"
      ],
      "execution_count": null,
      "outputs": [
        {
          "output_type": "execute_result",
          "data": {
            "text/plain": [
              "defaultdict(<function __main__.<lambda>>,\n",
              "            {'de': defaultdict(int, {0: 0}),\n",
              "             'en': defaultdict(int, {0: 0}),\n",
              "             'hr': defaultdict(int, {0: 0}),\n",
              "             'it': defaultdict(int, {0: 0}),\n",
              "             't/drive/MyDrive/SemEval2020-Task2-Dev.zip (Unzipped Files)/monolingual/graded/de.graded.dev.data.tx': defaultdict(int,\n",
              "                         {0: 0}),\n",
              "             't/drive/MyDrive/SemEval2020-Task2-Dev.zip (Unzipped Files)/monolingual/graded/en.graded.dev.data.tx': defaultdict(int,\n",
              "                         {0: 0}),\n",
              "             't/drive/MyDrive/SemEval2020-Task2-Dev.zip (Unzipped Files)/monolingual/graded/hr.graded.dev.data.tx': defaultdict(int,\n",
              "                         {0: 0}),\n",
              "             't/drive/MyDrive/SemEval2020-Task2-Dev.zip (Unzipped Files)/monolingual/graded/it.graded.dev.data.tx': defaultdict(int,\n",
              "                         {0: 0}),\n",
              "             't/drive/MyDrive/SemEval2020-Task2-Dev.zip (Unzipped Files)/monolingual/graded/tr.graded.dev.data.tx': defaultdict(int,\n",
              "                         {0: 0}),\n",
              "             'tr': defaultdict(int, {0: 0})})"
            ]
          },
          "metadata": {
            "tags": []
          },
          "execution_count": 16
        }
      ]
    },
    {
      "cell_type": "code",
      "metadata": {
        "id": "mn7m986qFJdK"
      },
      "source": [
        "eng_mono, ger_mono, hung_mono, ital_mono, turk_mono = defaultdict(int), defaultdict(int), defaultdict(int), defaultdict(int), defaultdict(int) "
      ],
      "execution_count": null,
      "outputs": []
    },
    {
      "cell_type": "code",
      "metadata": {
        "id": "m6tLlX9A0Xt2"
      },
      "source": [
        "\"\"\"diferentiates langs by the diff file text names\"\"\"\n",
        "# def createmonolib(text, dictionary_mono):\n",
        "#   global split_lang\n",
        "#   with open(text) as lang_binary:\n",
        "#         lang = lang_binary.readlines()\n",
        "#       ##splits word pairs\n",
        "#         for line in lang:\n",
        "#           split_lang = line.split(' ') \n",
        "#           dictionary_mono[(split_lang[0] + '_' + split_lang[1])] = split_lang[2].replace('\\n', '')"
      ],
      "execution_count": null,
      "outputs": []
    },
    {
      "cell_type": "code",
      "metadata": {
        "id": "YXh5yJv3x5Bx",
        "colab": {
          "base_uri": "https://localhost:8080/"
        },
        "outputId": "3c885bd1-f93f-4e22-88b8-0678d43630a7"
      },
      "source": [
        "print(hung_mono) \n",
        "print(turk_mono) \n",
        "print(ital_mono) "
      ],
      "execution_count": null,
      "outputs": [
        {
          "output_type": "stream",
          "text": [
            "defaultdict(<class 'int'>, {})\n",
            "defaultdict(<class 'int'>, {})\n",
            "defaultdict(<class 'int'>, {})\n"
          ],
          "name": "stdout"
        }
      ]
    }
  ]
}